{
 "cells": [
  {
   "cell_type": "code",
   "execution_count": 55,
   "metadata": {},
   "outputs": [],
   "source": [
    "from selenium import webdriver\n",
    "from selenium.webdriver.common.by import By \n",
    "from selenium.webdriver.common.keys import Keys\n",
    "import pyautogui\n",
    "import time\n",
    " \n",
    "op = webdriver.ChromeOptions()\n",
    "driver = webdriver.Chrome(options=op) \n",
    "driver.get(\"https://forms.gle/KkpFvsr9muCYgjNKA\")\n",
    "\n",
    "radiobutton1 = driver.find_element(By.XPATH, \"//*[@id='i8']\")\n",
    "\n",
    "pagebutton = driver.find_element(By.XPATH, \"//*[@id='mG61Hd']/div[2]/div/div[3]/div[1]/div[1]/div\")\n",
    "checkbox1 = driver.find_element(By.XPATH, \"//*[@id='i22']\")\n",
    "checkbox2 = driver.find_element(By.XPATH, \"//*[@id='i25']\")\n",
    "dropdown = driver.find_element(By.XPATH, \"//*[@id='mG61Hd']/div[2]/div/div[2]/div[3]/div/div/div[2]/div\")\n",
    "textbox1 = driver.find_element(By.XPATH, \"//*[@id='mG61Hd']/div[2]/div/div[2]/div[4]/div/div/div[2]/div/div[1]/div/div[1]/input\")\n",
    "\n",
    "#page 1\n",
    "radiobutton1.click()\n",
    "time.sleep(0.7)\n",
    "checkbox1.click()\n",
    "time.sleep(0.7)\n",
    "checkbox2.click()\n",
    "time.sleep(0.7)\n",
    "dropdown.click()\n",
    "time.sleep(0.7)\n",
    "pyautogui.press('down')\n",
    "time.sleep(0.7)\n",
    "pyautogui.press('down')\n",
    "time.sleep(0.7)\n",
    "pyautogui.press('down')\n",
    "time.sleep(0.7)\n",
    "dropdown.click()\n",
    "time.sleep(0.7)\n",
    "textbox1.send_keys(\"Hello World\")\n",
    "time.sleep(0.7)\n",
    "pagebutton.click()\n",
    "\n",
    "textbox2 = driver.find_element(By.XPATH, \"//*[@id='mG61Hd']/div[2]/div/div[2]/div[2]/div/div/div[2]/div/div[1]/div/div[1]/input\")\n",
    "date = driver.find_element(By.XPATH, \"//*[@id='mG61Hd']/div[2]/div/div[2]/div[3]/div/div/div[2]/div/div/div[2]/div[1]/div/div[1]/input\")\n",
    "check = driver.find_element(By.XPATH, \"//*[@id='mG61Hd']/div[2]/div/div[2]/div[4]/div/div/div[2]/div[1]/span/div/label[3]/div[2]/div/div\")\n",
    "submitbutton = driver.find_element(By.XPATH, \"//*[@id='mG61Hd']/div[2]/div/div[3]/div[1]/div[1]/div[2]\")\n",
    "\n",
    "#page 2\n",
    "textbox2.send_keys(\"2\")\n",
    "time.sleep(0.7)\n",
    "# date.click()\n",
    "# time.sleep(0.7)\n",
    "# date.send_keys(\"02012023\")\n",
    "# pyautogui.press('down')\n",
    "# time.sleep(1)\n",
    "# pyautogui.press('right')\n",
    "# time.sleep(1)\n",
    "# pyautogui.press('right')\n",
    "# time.sleep(1)\n",
    "# pyautogui.press('enter')\n",
    "# time.sleep(1)\n",
    "check.click()\n",
    "time.sleep(0.7)\n",
    "submitbutton.click()\n",
    "\n",
    "driver.close()\n",
    "\n",
    "\n",
    "\n"
   ]
  },
  {
   "cell_type": "code",
   "execution_count": 42,
   "metadata": {},
   "outputs": [
    {
     "data": {
      "text/plain": [
       "False"
      ]
     },
     "execution_count": 42,
     "metadata": {},
     "output_type": "execute_result"
    }
   ],
   "source": [
    "'https://docs.google.com/forms/d/e/1FAIpQLSeI8-SaZ-ZbgvWkM5GWLe3otPM4eQ41QOEQ7PGB77QTb6ESlw/viewform' == 'https://docs.google.com/forms/d/e/1FAIpQLSeI8-SaZ-ZbgvWkM5GWLe3otPM4eQ41QOEQ7PGB77QTb6ESlw/formResponse'"
   ]
  },
  {
   "cell_type": "code",
   "execution_count": null,
   "metadata": {},
   "outputs": [],
   "source": []
  }
 ],
 "metadata": {
  "kernelspec": {
   "display_name": "Python 3",
   "language": "python",
   "name": "python3"
  },
  "language_info": {
   "codemirror_mode": {
    "name": "ipython",
    "version": 3
   },
   "file_extension": ".py",
   "mimetype": "text/x-python",
   "name": "python",
   "nbconvert_exporter": "python",
   "pygments_lexer": "ipython3",
   "version": "3.9.13"
  },
  "orig_nbformat": 4,
  "vscode": {
   "interpreter": {
    "hash": "0a2f3994efa9e9de263862a4c1c06c544d497bac9a366cd7f55a58f98d143537"
   }
  }
 },
 "nbformat": 4,
 "nbformat_minor": 2
}
