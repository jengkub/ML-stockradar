{
 "cells": [
  {
   "cell_type": "code",
   "execution_count": 4,
   "metadata": {},
   "outputs": [
    {
     "ename": "ElementNotInteractableException",
     "evalue": "Message: element not interactable\n  (Session info: chrome=108.0.5359.125)\nStacktrace:\nBacktrace:\n\t(No symbol) [0x00EBF243]\n\t(No symbol) [0x00E47FD1]\n\t(No symbol) [0x00D3CF10]\n\t(No symbol) [0x00D6795E]\n\t(No symbol) [0x00D670E5]\n\t(No symbol) [0x00D8858C]\n\t(No symbol) [0x00D62BFF]\n\t(No symbol) [0x00D88804]\n\t(No symbol) [0x00D9C9EB]\n\t(No symbol) [0x00D88386]\n\t(No symbol) [0x00D6163C]\n\t(No symbol) [0x00D6269D]\n\tGetHandleVerifier [0x01159A22+2655074]\n\tGetHandleVerifier [0x0114CA24+2601828]\n\tGetHandleVerifier [0x00F68C0A+619850]\n\tGetHandleVerifier [0x00F67830+614768]\n\t(No symbol) [0x00E505FC]\n\t(No symbol) [0x00E55968]\n\t(No symbol) [0x00E55A55]\n\t(No symbol) [0x00E6051B]\n\tBaseThreadInitThunk [0x778F00F9+25]\n\tRtlGetAppContainerNamedObjectPath [0x77BA7BBE+286]\n\tRtlGetAppContainerNamedObjectPath [0x77BA7B8E+238]\n",
     "output_type": "error",
     "traceback": [
      "\u001b[1;31m---------------------------------------------------------------------------\u001b[0m",
      "\u001b[1;31mElementNotInteractableException\u001b[0m           Traceback (most recent call last)",
      "Cell \u001b[1;32mIn[4], line 47\u001b[0m\n\u001b[0;32m     43\u001b[0m check \u001b[39m=\u001b[39m driver\u001b[39m.\u001b[39mfind_element(By\u001b[39m.\u001b[39mXPATH, \u001b[39m\"\u001b[39m\u001b[39m//*[@id=\u001b[39m\u001b[39m'\u001b[39m\u001b[39mmG61Hd\u001b[39m\u001b[39m'\u001b[39m\u001b[39m]/div[2]/div/div[2]/div[4]/div/div/div[2]/div[1]/span/div/label[3]/div[2]/div/div\u001b[39m\u001b[39m\"\u001b[39m)\n\u001b[0;32m     44\u001b[0m submitbutton \u001b[39m=\u001b[39m driver\u001b[39m.\u001b[39mfind_element(By\u001b[39m.\u001b[39mXPATH, \u001b[39m\"\u001b[39m\u001b[39m//*[@id=\u001b[39m\u001b[39m'\u001b[39m\u001b[39mmG61Hd\u001b[39m\u001b[39m'\u001b[39m\u001b[39m]/div[2]/div/div[3]/div[1]/div[1]/div[2]\u001b[39m\u001b[39m\"\u001b[39m)\n\u001b[1;32m---> 47\u001b[0m textbox2\u001b[39m.\u001b[39;49msend_keys(\u001b[39m\"\u001b[39;49m\u001b[39m2\u001b[39;49m\u001b[39m\"\u001b[39;49m)\n\u001b[0;32m     48\u001b[0m time\u001b[39m.\u001b[39msleep(\u001b[39m0.5\u001b[39m)\n\u001b[0;32m     49\u001b[0m date\u001b[39m.\u001b[39mclick()\n",
      "File \u001b[1;32m~\\AppData\\Local\\Packages\\PythonSoftwareFoundation.Python.3.9_qbz5n2kfra8p0\\LocalCache\\local-packages\\Python39\\site-packages\\selenium\\webdriver\\remote\\webelement.py:233\u001b[0m, in \u001b[0;36mWebElement.send_keys\u001b[1;34m(self, *value)\u001b[0m\n\u001b[0;32m    230\u001b[0m             remote_files\u001b[39m.\u001b[39mappend(\u001b[39mself\u001b[39m\u001b[39m.\u001b[39m_upload(file))\n\u001b[0;32m    231\u001b[0m         value \u001b[39m=\u001b[39m \u001b[39m\"\u001b[39m\u001b[39m\\n\u001b[39;00m\u001b[39m\"\u001b[39m\u001b[39m.\u001b[39mjoin(remote_files)\n\u001b[1;32m--> 233\u001b[0m \u001b[39mself\u001b[39;49m\u001b[39m.\u001b[39;49m_execute(\n\u001b[0;32m    234\u001b[0m     Command\u001b[39m.\u001b[39;49mSEND_KEYS_TO_ELEMENT, {\u001b[39m\"\u001b[39;49m\u001b[39mtext\u001b[39;49m\u001b[39m\"\u001b[39;49m: \u001b[39m\"\u001b[39;49m\u001b[39m\"\u001b[39;49m\u001b[39m.\u001b[39;49mjoin(keys_to_typing(value)), \u001b[39m\"\u001b[39;49m\u001b[39mvalue\u001b[39;49m\u001b[39m\"\u001b[39;49m: keys_to_typing(value)}\n\u001b[0;32m    235\u001b[0m )\n",
      "File \u001b[1;32m~\\AppData\\Local\\Packages\\PythonSoftwareFoundation.Python.3.9_qbz5n2kfra8p0\\LocalCache\\local-packages\\Python39\\site-packages\\selenium\\webdriver\\remote\\webelement.py:410\u001b[0m, in \u001b[0;36mWebElement._execute\u001b[1;34m(self, command, params)\u001b[0m\n\u001b[0;32m    408\u001b[0m     params \u001b[39m=\u001b[39m {}\n\u001b[0;32m    409\u001b[0m params[\u001b[39m\"\u001b[39m\u001b[39mid\u001b[39m\u001b[39m\"\u001b[39m] \u001b[39m=\u001b[39m \u001b[39mself\u001b[39m\u001b[39m.\u001b[39m_id\n\u001b[1;32m--> 410\u001b[0m \u001b[39mreturn\u001b[39;00m \u001b[39mself\u001b[39;49m\u001b[39m.\u001b[39;49m_parent\u001b[39m.\u001b[39;49mexecute(command, params)\n",
      "File \u001b[1;32m~\\AppData\\Local\\Packages\\PythonSoftwareFoundation.Python.3.9_qbz5n2kfra8p0\\LocalCache\\local-packages\\Python39\\site-packages\\selenium\\webdriver\\remote\\webdriver.py:444\u001b[0m, in \u001b[0;36mWebDriver.execute\u001b[1;34m(self, driver_command, params)\u001b[0m\n\u001b[0;32m    442\u001b[0m response \u001b[39m=\u001b[39m \u001b[39mself\u001b[39m\u001b[39m.\u001b[39mcommand_executor\u001b[39m.\u001b[39mexecute(driver_command, params)\n\u001b[0;32m    443\u001b[0m \u001b[39mif\u001b[39;00m response:\n\u001b[1;32m--> 444\u001b[0m     \u001b[39mself\u001b[39;49m\u001b[39m.\u001b[39;49merror_handler\u001b[39m.\u001b[39;49mcheck_response(response)\n\u001b[0;32m    445\u001b[0m     response[\u001b[39m\"\u001b[39m\u001b[39mvalue\u001b[39m\u001b[39m\"\u001b[39m] \u001b[39m=\u001b[39m \u001b[39mself\u001b[39m\u001b[39m.\u001b[39m_unwrap_value(response\u001b[39m.\u001b[39mget(\u001b[39m\"\u001b[39m\u001b[39mvalue\u001b[39m\u001b[39m\"\u001b[39m, \u001b[39mNone\u001b[39;00m))\n\u001b[0;32m    446\u001b[0m     \u001b[39mreturn\u001b[39;00m response\n",
      "File \u001b[1;32m~\\AppData\\Local\\Packages\\PythonSoftwareFoundation.Python.3.9_qbz5n2kfra8p0\\LocalCache\\local-packages\\Python39\\site-packages\\selenium\\webdriver\\remote\\errorhandler.py:249\u001b[0m, in \u001b[0;36mErrorHandler.check_response\u001b[1;34m(self, response)\u001b[0m\n\u001b[0;32m    247\u001b[0m         alert_text \u001b[39m=\u001b[39m value[\u001b[39m\"\u001b[39m\u001b[39malert\u001b[39m\u001b[39m\"\u001b[39m]\u001b[39m.\u001b[39mget(\u001b[39m\"\u001b[39m\u001b[39mtext\u001b[39m\u001b[39m\"\u001b[39m)\n\u001b[0;32m    248\u001b[0m     \u001b[39mraise\u001b[39;00m exception_class(message, screen, stacktrace, alert_text)  \u001b[39m# type: ignore[call-arg]  # mypy is not smart enough here\u001b[39;00m\n\u001b[1;32m--> 249\u001b[0m \u001b[39mraise\u001b[39;00m exception_class(message, screen, stacktrace)\n",
      "\u001b[1;31mElementNotInteractableException\u001b[0m: Message: element not interactable\n  (Session info: chrome=108.0.5359.125)\nStacktrace:\nBacktrace:\n\t(No symbol) [0x00EBF243]\n\t(No symbol) [0x00E47FD1]\n\t(No symbol) [0x00D3CF10]\n\t(No symbol) [0x00D6795E]\n\t(No symbol) [0x00D670E5]\n\t(No symbol) [0x00D8858C]\n\t(No symbol) [0x00D62BFF]\n\t(No symbol) [0x00D88804]\n\t(No symbol) [0x00D9C9EB]\n\t(No symbol) [0x00D88386]\n\t(No symbol) [0x00D6163C]\n\t(No symbol) [0x00D6269D]\n\tGetHandleVerifier [0x01159A22+2655074]\n\tGetHandleVerifier [0x0114CA24+2601828]\n\tGetHandleVerifier [0x00F68C0A+619850]\n\tGetHandleVerifier [0x00F67830+614768]\n\t(No symbol) [0x00E505FC]\n\t(No symbol) [0x00E55968]\n\t(No symbol) [0x00E55A55]\n\t(No symbol) [0x00E6051B]\n\tBaseThreadInitThunk [0x778F00F9+25]\n\tRtlGetAppContainerNamedObjectPath [0x77BA7BBE+286]\n\tRtlGetAppContainerNamedObjectPath [0x77BA7B8E+238]\n"
     ]
    }
   ],
   "source": [
    "from selenium import webdriver\n",
    "from selenium.webdriver.common.by import By \n",
    "from selenium.webdriver.common.keys import Keys\n",
    "import pyautogui\n",
    "import time\n",
    " \n",
    "op = webdriver.ChromeOptions()\n",
    "driver = webdriver.Chrome(options=op) \n",
    "driver.get(\"https://forms.gle/KkpFvsr9muCYgjNKA\")\n",
    "\n",
    "#page 1\n",
    "radiobutton1 = driver.find_element(By.XPATH, \"//*[@id='i8']\")\n",
    "pagebutton = driver.find_element(By.XPATH, \"//*[@id='mG61Hd']/div[2]/div/div[3]/div[1]/div[1]/div\")\n",
    "checkbox1 = driver.find_element(By.XPATH, \"//*[@id='i22']\")\n",
    "checkbox2 = driver.find_element(By.XPATH, \"//*[@id='i25']\")\n",
    "dropdown = driver.find_element(By.XPATH, \"//*[@id='mG61Hd']/div[2]/div/div[2]/div[3]/div/div/div[2]/div\")\n",
    "textbox1 = driver.find_element(By.XPATH, \"//*[@id='mG61Hd']/div[2]/div/div[2]/div[4]/div/div/div[2]/div/div[1]/div/div[1]/input\")\n",
    "\n",
    "\n",
    "radiobutton1.click()\n",
    "time.sleep(0.5)\n",
    "checkbox1.click()\n",
    "time.sleep(0.5)\n",
    "checkbox2.click()\n",
    "time.sleep(0.5)\n",
    "dropdown.click()\n",
    "time.sleep(0.5)\n",
    "pyautogui.press('down')\n",
    "time.sleep(0.5)\n",
    "pyautogui.press('down')\n",
    "time.sleep(0.5)\n",
    "pyautogui.press('down')\n",
    "time.sleep(0.5)\n",
    "pyautogui.press('enter')\n",
    "time.sleep(0.5)\n",
    "textbox1.send_keys(\"Hello World\")\n",
    "time.sleep(0.5)\n",
    "pagebutton.click()\n",
    "\n",
    "#page 2\n",
    "textbox2 = driver.find_element(By.XPATH, \"//*[@id='mG61Hd']/div[2]/div/div[2]/div[2]/div/div/div[2]/div/div[1]/div/div[1]/input\")\n",
    "date = driver.find_element(By.XPATH, \"//*[@id='mG61Hd']/div[2]/div/div[2]/div[3]/div/div/div[2]/div/div/div[2]/div[1]/div/div[1]/input\")\n",
    "check = driver.find_element(By.XPATH, \"//*[@id='mG61Hd']/div[2]/div/div[2]/div[4]/div/div/div[2]/div[1]/span/div/label[3]/div[2]/div/div\")\n",
    "submitbutton = driver.find_element(By.XPATH, \"//*[@id='mG61Hd']/div[2]/div/div[3]/div[1]/div[1]/div[2]\")\n",
    "\n",
    "\n",
    "textbox2.send_keys(\"2\")\n",
    "time.sleep(0.5)\n",
    "date.click()\n",
    "time.sleep(0.5)\n",
    "pyautogui.press('left')\n",
    "time.sleep(0.5)\n",
    "pyautogui.press('left')\n",
    "time.sleep(0.5)\n",
    "date.send_keys(\"01\")\n",
    "time.sleep(0.5)\n",
    "date.send_keys(\"11\")\n",
    "time.sleep(0.5)\n",
    "date.send_keys(\"2023\")\n",
    "time.sleep(0.5)\n",
    "# pyautogui.press('down')\n",
    "# time.sleep(1)\n",
    "# pyautogui.press('right')\n",
    "# time.sleep(1)\n",
    "# pyautogui.press('right')\n",
    "# time.sleep(1)\n",
    "pyautogui.press('enter')\n",
    "time.sleep(0.5)\n",
    "check.click()\n",
    "time.sleep(0.5)\n",
    "submitbutton.click()\n",
    "\n",
    "driver.close()\n",
    "\n",
    "\n",
    "\n"
   ]
  },
  {
   "cell_type": "code",
   "execution_count": null,
   "metadata": {},
   "outputs": [],
   "source": []
  }
 ],
 "metadata": {
  "kernelspec": {
   "display_name": "Python 3",
   "language": "python",
   "name": "python3"
  },
  "language_info": {
   "codemirror_mode": {
    "name": "ipython",
    "version": 3
   },
   "file_extension": ".py",
   "mimetype": "text/x-python",
   "name": "python",
   "nbconvert_exporter": "python",
   "pygments_lexer": "ipython3",
   "version": "3.9.13"
  },
  "orig_nbformat": 4,
  "vscode": {
   "interpreter": {
    "hash": "64b3b38b24ae9e1118ff40b6c3637fc16a54aed00e4869a98dc863e7d1c0680a"
   }
  }
 },
 "nbformat": 4,
 "nbformat_minor": 2
}
