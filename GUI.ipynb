{
 "cells": [
  {
   "cell_type": "code",
   "execution_count": 4,
   "metadata": {},
   "outputs": [],
   "source": [
    "import tkinter as tk\n",
    "import yfinance as yf\n",
    "import sqlite3\n",
    "import pandas as pd\n",
    "\n",
    "root=tk.Tk()\n",
    " \n",
    "# setting the windows size\n",
    "root.geometry(\"600x400\")\n",
    "  \n",
    "# declaring string variable\n",
    "# for storing name and password\n",
    "Ticker=tk.StringVar()\n",
    "dl_ticker=tk.StringVar()\n",
    "  \n",
    "# defining a function that will\n",
    "# get the name and password and\n",
    "# print them on the screen\n",
    "def submit():\n",
    "    name=Ticker.get()\n",
    "    name = name.upper()\n",
    "    conn = sqlite3.connect(\"stock.sqlite\")\n",
    "    cur = conn.cursor()\n",
    "    query = \"select * from stock_table_hr where `ticker` == '%s'\" % name\n",
    "    try:\n",
    "        r_df = pd.read_sql(query,conn)\n",
    "        if r_df.empty:\n",
    "            try:\n",
    "                notice_label = tk.Label(root, text = 'not found on DB you want to dowlaod?', font=('calibre',10, 'bold'))\n",
    "                notice_label.grid(row=2,column=0)\n",
    "                dl_btn=tk.Button(root,text = 'Dowload', command = DL)\n",
    "                dl_btn.grid(row=2,column=2)\n",
    "            except:\n",
    "                raise NameError\n",
    "        else:\n",
    "            print(r_df)\n",
    "    except:\n",
    "        Fail_label = tk.Label(root, text = 'Error not such that ticker', font=('calibre',10, 'bold'))\n",
    "        Fail_label.grid(row=3,column=0)\n",
    "     \n",
    "def DL():\n",
    "    try:\n",
    "        name=Ticker.get()\n",
    "        name = name.upper()\n",
    "        data = yf.download(tickers=name, period='max', interval='1mo')\n",
    "        if data.empty:\n",
    "            raise NameError\n",
    "        else:\n",
    "            print(data)\n",
    "    except:\n",
    "        Fail_label = tk.Label(root, text = 'Error not such that ticker', font=('calibre',10, 'bold'))\n",
    "        Fail_label.grid(row=3,column=0)\n",
    "\n",
    "# creating a label for\n",
    "# name using widget Label\n",
    "name_label = tk.Label(root, text = 'Enter Ticker Here', font=('calibre',10, 'bold'))\n",
    "  \n",
    "# creating a entry for input\n",
    "# name using widget Entry\n",
    "name_entry = tk.Entry(root,textvariable = Ticker, font=('calibre',10,'normal'))\n",
    "  \n",
    "# creating a button using the widget\n",
    "# Button that will call the submit function\n",
    "sub_btn=tk.Button(root,text = 'Submit', command = submit)\n",
    "  \n",
    "# placing the label and entry in\n",
    "# the required position using grid\n",
    "# method\n",
    "name_label.grid(row=0,column=0)\n",
    "name_entry.grid(row=0,column=1)\n",
    "sub_btn.grid(row=2,column=1)\n",
    "  \n",
    "# performing an infinite loop\n",
    "# for the window to display\n",
    "root.mainloop()"
   ]
  },
  {
   "cell_type": "code",
   "execution_count": 18,
   "metadata": {},
   "outputs": [
    {
     "name": "stdout",
     "output_type": "stream",
     "text": [
      "['AAV.BK', 'ACE.BK', 'ADVANC.BK', 'AMATA.BK', 'AOT.BK', 'AP.BK', 'AWC.BK', 'BAM.BK', 'BANPU.BK', 'BBL.BK', 'BCH.BK', 'BCP.BK', 'BCPG.BK', 'BDMS.BK', 'BEC.BK', 'BEM.BK', 'BGRIM.BK', 'BH.BK', 'BLA.BK', 'BTS.BK', 'BYD.BK', 'CBG.BK', 'CENTEL.BK', 'CHG.BK', 'CK.BK', 'CKP.BK', 'COM7.BK', 'CPALL.BK', 'CPF.BK', 'CPN.BK', 'CRC.BK', 'DELTA.BK', 'DOHOME.BK', 'DTAC.BK', 'EA.BK', 'EGCO.BK', 'EPG.BK', 'ESSO.BK', 'FORTH.BK', 'GLOBAL.BK', 'GPSC.BK', 'GULF.BK', 'GUNKUL.BK', 'HANA.BK', 'HMPRO.BK', 'INTUCH.BK', 'IRPC.BK', 'IVL.BK', 'JAS.BK', 'JMART.BK', 'JMT.BK', 'KBANK.BK', 'KCE.BK', 'KEX.BK', 'KKP.BK', 'KTB.BK', 'KTC.BK', 'LH.BK', 'MEGA.BK', 'MINT.BK', 'MTC.BK', 'NEX.BK', 'ONEE.BK', 'OR.BK', 'ORI.BK', 'OSP.BK', 'PLANB.BK', 'PSL.BK', 'PTG.BK', 'PTT.BK', 'PTTEP.BK', 'PTTGC.BK', 'QH.BK', 'RATCH.BK', 'RBF.BK', 'RCL.BK', 'SABUY.BK', 'SAWAD.BK', 'SCB.BK', 'SCC.BK', 'SCGP.BK', 'SINGER.BK', 'SPALI.BK', 'SPRC.BK', 'STA.BK', 'STARK.BK', 'STGT.BK', 'TCAP.BK', 'THANI.BK', 'THG.BK', 'TIDLOR.BK', 'TIPH.BK', 'TISCO.BK', 'TOP.BK', 'TQM.BK', 'TRUE.BK', 'TTB.BK', 'TU.BK', 'VGI.BK', 'WHA.BK']\n",
      "100\n"
     ]
    }
   ],
   "source": [
    "import sqlite3\n",
    "import datetime\n",
    "conn = sqlite3.connect(\"stock.sqlite\")\n",
    "cur = conn.cursor()\n",
    "query = \"select distinct Ticker from stock_table_hr\"\n",
    "r_df = pd.read_sql(query,conn)\n",
    "list_db = r_df['Ticker'].values.tolist()\n",
    "print(list_db)\n",
    "print(len(list_db))"
   ]
  },
  {
   "cell_type": "code",
   "execution_count": null,
   "metadata": {},
   "outputs": [],
   "source": []
  }
 ],
 "metadata": {
  "kernelspec": {
   "display_name": "Python 3",
   "language": "python",
   "name": "python3"
  },
  "language_info": {
   "codemirror_mode": {
    "name": "ipython",
    "version": 3
   },
   "file_extension": ".py",
   "mimetype": "text/x-python",
   "name": "python",
   "nbconvert_exporter": "python",
   "pygments_lexer": "ipython3",
   "version": "3.9.13"
  },
  "orig_nbformat": 4,
  "vscode": {
   "interpreter": {
    "hash": "64b3b38b24ae9e1118ff40b6c3637fc16a54aed00e4869a98dc863e7d1c0680a"
   }
  }
 },
 "nbformat": 4,
 "nbformat_minor": 2
}
